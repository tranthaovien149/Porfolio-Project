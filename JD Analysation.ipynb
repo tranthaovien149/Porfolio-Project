{
 "cells": [
  {
   "cell_type": "code",
   "execution_count": null,
   "metadata": {},
   "outputs": [],
   "source": []
  },
  {
   "cell_type": "markdown",
   "metadata": {},
   "source": [
    "# Techniques for the Assignment 1/2"
   ]
  },
  {
   "cell_type": "markdown",
   "metadata": {},
   "source": [
    "JD Sports is used as an exmaple in this session."
   ]
  },
  {
   "cell_type": "markdown",
   "metadata": {},
   "source": [
    "## Download the required data"
   ]
  },
  {
   "cell_type": "markdown",
   "metadata": {},
   "source": [
    "You need to download the daily prices from 02/03/2020 to 28/02/2022, in total 505 days. Then set the first 485 days as the training set and the last 20 days as the test set."
   ]
  },
  {
   "cell_type": "code",
   "execution_count": 2,
   "metadata": {},
   "outputs": [
    {
     "name": "stdout",
     "output_type": "stream",
     "text": [
      "Requirement already satisfied: yfinance in /Users/milo/anaconda3/lib/python3.9/site-packages (0.1.70)\n",
      "Requirement already satisfied: requests>=2.26 in /Users/milo/anaconda3/lib/python3.9/site-packages (from yfinance) (2.26.0)\n",
      "Requirement already satisfied: pandas>=0.24.0 in /Users/milo/anaconda3/lib/python3.9/site-packages (from yfinance) (1.3.4)\n",
      "Requirement already satisfied: multitasking>=0.0.7 in /Users/milo/anaconda3/lib/python3.9/site-packages (from yfinance) (0.0.10)\n",
      "Requirement already satisfied: numpy>=1.15 in /Users/milo/anaconda3/lib/python3.9/site-packages (from yfinance) (1.20.3)\n",
      "Requirement already satisfied: lxml>=4.5.1 in /Users/milo/anaconda3/lib/python3.9/site-packages (from yfinance) (4.6.3)\n",
      "Requirement already satisfied: python-dateutil>=2.7.3 in /Users/milo/anaconda3/lib/python3.9/site-packages (from pandas>=0.24.0->yfinance) (2.8.2)\n",
      "Requirement already satisfied: pytz>=2017.3 in /Users/milo/anaconda3/lib/python3.9/site-packages (from pandas>=0.24.0->yfinance) (2021.3)\n",
      "Requirement already satisfied: six>=1.5 in /Users/milo/anaconda3/lib/python3.9/site-packages (from python-dateutil>=2.7.3->pandas>=0.24.0->yfinance) (1.16.0)\n",
      "Requirement already satisfied: urllib3<1.27,>=1.21.1 in /Users/milo/anaconda3/lib/python3.9/site-packages (from requests>=2.26->yfinance) (1.26.7)\n",
      "Requirement already satisfied: charset-normalizer~=2.0.0 in /Users/milo/anaconda3/lib/python3.9/site-packages (from requests>=2.26->yfinance) (2.0.4)\n",
      "Requirement already satisfied: certifi>=2017.4.17 in /Users/milo/anaconda3/lib/python3.9/site-packages (from requests>=2.26->yfinance) (2021.10.8)\n",
      "Requirement already satisfied: idna<4,>=2.5 in /Users/milo/anaconda3/lib/python3.9/site-packages (from requests>=2.26->yfinance) (3.2)\n",
      "Note: you may need to restart the kernel to use updated packages.\n"
     ]
    }
   ],
   "source": [
    "pip install yfinance"
   ]
  },
  {
   "cell_type": "code",
   "execution_count": null,
   "metadata": {},
   "outputs": [],
   "source": [
    "# import required packages\n",
    "import pandas as pd\n",
    "import yfinance as yf\n",
    "import numpy as np\n",
    "import matplotlib as mp\n",
    "import statsmodels as ss"
   ]
  },
  {
   "cell_type": "code",
   "execution_count": 4,
   "metadata": {},
   "outputs": [
    {
     "name": "stdout",
     "output_type": "stream",
     "text": [
      "[*********************100%***********************]  1 of 1 completed\n"
     ]
    }
   ],
   "source": [
    "# Download JD Sports prices\n",
    "JD=yf.download('JD.L',start='2020-03-02',end='2022-03-01')"
   ]
  },
  {
   "cell_type": "code",
   "execution_count": 5,
   "metadata": {},
   "outputs": [
    {
     "name": "stdout",
     "output_type": "stream",
     "text": [
      "                  Open        High         Low       Close   Adj Close  \\\n",
      "Date                                                                     \n",
      "2020-03-02  150.080002  150.880005  142.279999  144.240005  144.237717   \n",
      "2020-03-03  147.399994  150.720001  146.039993  147.800003  147.797653   \n",
      "2020-03-04  150.000000  150.000000  143.720001  144.759995  144.757690   \n",
      "2020-03-05  145.399994  147.320007  140.240005  141.199997  141.197754   \n",
      "2020-03-06  138.800003  139.235199  133.320007  135.720001  135.717834   \n",
      "...                ...         ...         ...         ...         ...   \n",
      "2022-02-22  157.699997  163.600006  156.910004  160.600006  160.600006   \n",
      "2022-02-23  162.699997  162.699997  155.850006  155.850006  155.850006   \n",
      "2022-02-24  148.550003  155.000000  145.992004  153.500000  153.500000   \n",
      "2022-02-25  157.250000  158.800003  148.710007  150.250000  150.250000   \n",
      "2022-02-28  148.199997  151.000000  145.750000  151.000000  151.000000   \n",
      "\n",
      "              Volume  \n",
      "Date                  \n",
      "2020-03-02  14192120  \n",
      "2020-03-03  10575260  \n",
      "2020-03-04  11414500  \n",
      "2020-03-05  12553890  \n",
      "2020-03-06  17265660  \n",
      "...              ...  \n",
      "2022-02-22  25419441  \n",
      "2022-02-23  12169439  \n",
      "2022-02-24  20724807  \n",
      "2022-02-25  21837489  \n",
      "2022-02-28  20306200  \n",
      "\n",
      "[505 rows x 6 columns]\n"
     ]
    }
   ],
   "source": [
    "print(JD)"
   ]
  },
  {
   "cell_type": "markdown",
   "metadata": {},
   "source": [
    "## Indexing"
   ]
  },
  {
   "cell_type": "markdown",
   "metadata": {},
   "source": [
    "### Select a column, row, or cell"
   ]
  },
  {
   "cell_type": "markdown",
   "metadata": {},
   "source": [
    "#### By the names of columns and rows"
   ]
  },
  {
   "cell_type": "code",
   "execution_count": 6,
   "metadata": {},
   "outputs": [
    {
     "data": {
      "text/plain": [
       "Date\n",
       "2020-03-02    144.237717\n",
       "2020-03-03    147.797653\n",
       "2020-03-04    144.757690\n",
       "2020-03-05    141.197754\n",
       "2020-03-06    135.717834\n",
       "                 ...    \n",
       "2022-02-22    160.600006\n",
       "2022-02-23    155.850006\n",
       "2022-02-24    153.500000\n",
       "2022-02-25    150.250000\n",
       "2022-02-28    151.000000\n",
       "Name: Adj Close, Length: 505, dtype: float64"
      ]
     },
     "execution_count": 6,
     "metadata": {},
     "output_type": "execute_result"
    }
   ],
   "source": [
    "# select a column\n",
    "JD['Adj Close']"
   ]
  },
  {
   "cell_type": "code",
   "execution_count": 7,
   "metadata": {},
   "outputs": [
    {
     "data": {
      "text/plain": [
       "Open         1.500800e+02\n",
       "High         1.508800e+02\n",
       "Low          1.422800e+02\n",
       "Close        1.442400e+02\n",
       "Adj Close    1.442377e+02\n",
       "Volume       1.419212e+07\n",
       "Name: 2020-03-02 00:00:00, dtype: float64"
      ]
     },
     "execution_count": 7,
     "metadata": {},
     "output_type": "execute_result"
    }
   ],
   "source": [
    "# select a row\n",
    "JD.loc['2020-03-02']"
   ]
  },
  {
   "cell_type": "code",
   "execution_count": 8,
   "metadata": {},
   "outputs": [
    {
     "data": {
      "text/plain": [
       "144.2377166748047"
      ]
     },
     "execution_count": 8,
     "metadata": {},
     "output_type": "execute_result"
    }
   ],
   "source": [
    "# select a cell\n",
    "JD['Adj Close']['2020-03-02']"
   ]
  },
  {
   "cell_type": "markdown",
   "metadata": {},
   "source": [
    "#### By the numbers of columns and rows"
   ]
  },
  {
   "cell_type": "code",
   "execution_count": 9,
   "metadata": {},
   "outputs": [
    {
     "data": {
      "text/plain": [
       "Date\n",
       "2020-03-02    144.237717\n",
       "2020-03-03    147.797653\n",
       "2020-03-04    144.757690\n",
       "2020-03-05    141.197754\n",
       "2020-03-06    135.717834\n",
       "                 ...    \n",
       "2022-02-22    160.600006\n",
       "2022-02-23    155.850006\n",
       "2022-02-24    153.500000\n",
       "2022-02-25    150.250000\n",
       "2022-02-28    151.000000\n",
       "Name: Adj Close, Length: 505, dtype: float64"
      ]
     },
     "execution_count": 9,
     "metadata": {},
     "output_type": "execute_result"
    }
   ],
   "source": [
    "# select a column\n",
    "JD.iloc[:,4]"
   ]
  },
  {
   "cell_type": "code",
   "execution_count": 10,
   "metadata": {},
   "outputs": [
    {
     "data": {
      "text/plain": [
       "Open         1.500800e+02\n",
       "High         1.508800e+02\n",
       "Low          1.422800e+02\n",
       "Close        1.442400e+02\n",
       "Adj Close    1.442377e+02\n",
       "Volume       1.419212e+07\n",
       "Name: 2020-03-02 00:00:00, dtype: float64"
      ]
     },
     "execution_count": 10,
     "metadata": {},
     "output_type": "execute_result"
    }
   ],
   "source": [
    "# select a row\n",
    "JD.iloc[0]"
   ]
  },
  {
   "cell_type": "code",
   "execution_count": 11,
   "metadata": {},
   "outputs": [
    {
     "data": {
      "text/plain": [
       "144.2377166748047"
      ]
     },
     "execution_count": 11,
     "metadata": {},
     "output_type": "execute_result"
    }
   ],
   "source": [
    "# select a cell\n",
    "JD.iloc[0,4]"
   ]
  },
  {
   "cell_type": "markdown",
   "metadata": {},
   "source": [
    "### Define the training and test sets"
   ]
  },
  {
   "cell_type": "code",
   "execution_count": 12,
   "metadata": {},
   "outputs": [],
   "source": [
    "# Training set\n",
    "JDtraining=JD.iloc[0:484]"
   ]
  },
  {
   "cell_type": "code",
   "execution_count": 13,
   "metadata": {},
   "outputs": [],
   "source": [
    "# Drop the columns we don't need\n",
    "JDtraining=JDtraining.drop(columns=['Open','High','Low','Close','Volume'])"
   ]
  },
  {
   "cell_type": "code",
   "execution_count": 14,
   "metadata": {},
   "outputs": [
    {
     "name": "stdout",
     "output_type": "stream",
     "text": [
      "             Adj Close\n",
      "Date                  \n",
      "2020-03-02  144.237717\n",
      "2020-03-03  147.797653\n",
      "2020-03-04  144.757690\n",
      "2020-03-05  141.197754\n",
      "2020-03-06  135.717834\n",
      "...                ...\n",
      "2022-01-24  182.899994\n",
      "2022-01-25  182.550003\n",
      "2022-01-26  184.000000\n",
      "2022-01-27  187.000000\n",
      "2022-01-28  188.300003\n",
      "\n",
      "[484 rows x 1 columns]\n"
     ]
    }
   ],
   "source": [
    "print(JDtraining)"
   ]
  },
  {
   "cell_type": "code",
   "execution_count": 15,
   "metadata": {},
   "outputs": [],
   "source": [
    "# Test set\n",
    "JDtest=JD.iloc[485:505]\n",
    "\n",
    "# or JDtest=JD.iloc[-20:-1].append(JD.iloc[-1])"
   ]
  },
  {
   "cell_type": "code",
   "execution_count": 16,
   "metadata": {},
   "outputs": [],
   "source": [
    "# Drop the columns we don't need\n",
    "JDtest=JDtest.drop(columns=['Open','High','Low','Close','Volume'])"
   ]
  },
  {
   "cell_type": "code",
   "execution_count": 17,
   "metadata": {},
   "outputs": [
    {
     "name": "stdout",
     "output_type": "stream",
     "text": [
      "             Adj Close\n",
      "Date                  \n",
      "2022-02-01  191.399994\n",
      "2022-02-02  188.300003\n",
      "2022-02-03  184.300003\n",
      "2022-02-04  182.000000\n",
      "2022-02-07  181.399994\n",
      "2022-02-08  179.050003\n",
      "2022-02-09  181.899994\n",
      "2022-02-10  178.850006\n",
      "2022-02-11  174.649994\n",
      "2022-02-14  168.500000\n",
      "2022-02-15  168.850006\n",
      "2022-02-16  166.000000\n",
      "2022-02-17  165.000000\n",
      "2022-02-18  165.699997\n",
      "2022-02-21  161.550003\n",
      "2022-02-22  160.600006\n",
      "2022-02-23  155.850006\n",
      "2022-02-24  153.500000\n",
      "2022-02-25  150.250000\n",
      "2022-02-28  151.000000\n"
     ]
    }
   ],
   "source": [
    "print(JDtest)"
   ]
  },
  {
   "cell_type": "markdown",
   "metadata": {},
   "source": [
    "## Descriptive Analytics"
   ]
  },
  {
   "cell_type": "markdown",
   "metadata": {},
   "source": [
    "### Calculate daily returns"
   ]
  },
  {
   "cell_type": "markdown",
   "metadata": {},
   "source": [
    "The formula is: today's return = (today's price - yesterday's price)/yesterday's price"
   ]
  },
  {
   "cell_type": "code",
   "execution_count": 18,
   "metadata": {},
   "outputs": [],
   "source": [
    "returns=(JDtraining['Adj Close']-JDtraining.shift(1)['Adj Close'])/JDtraining.shift(1)['Adj Close']\n",
    "\n",
    "# JDtraining.shift(1) can shift all records down by one row."
   ]
  },
  {
   "cell_type": "code",
   "execution_count": 19,
   "metadata": {},
   "outputs": [],
   "source": [
    "JDtraining['Return']=returns"
   ]
  },
  {
   "cell_type": "code",
   "execution_count": 20,
   "metadata": {},
   "outputs": [
    {
     "data": {
      "text/html": [
       "<div>\n",
       "<style scoped>\n",
       "    .dataframe tbody tr th:only-of-type {\n",
       "        vertical-align: middle;\n",
       "    }\n",
       "\n",
       "    .dataframe tbody tr th {\n",
       "        vertical-align: top;\n",
       "    }\n",
       "\n",
       "    .dataframe thead th {\n",
       "        text-align: right;\n",
       "    }\n",
       "</style>\n",
       "<table border=\"1\" class=\"dataframe\">\n",
       "  <thead>\n",
       "    <tr style=\"text-align: right;\">\n",
       "      <th></th>\n",
       "      <th>Adj Close</th>\n",
       "      <th>Return</th>\n",
       "    </tr>\n",
       "    <tr>\n",
       "      <th>Date</th>\n",
       "      <th></th>\n",
       "      <th></th>\n",
       "    </tr>\n",
       "  </thead>\n",
       "  <tbody>\n",
       "    <tr>\n",
       "      <th>2020-03-02</th>\n",
       "      <td>144.237717</td>\n",
       "      <td>NaN</td>\n",
       "    </tr>\n",
       "    <tr>\n",
       "      <th>2020-03-03</th>\n",
       "      <td>147.797653</td>\n",
       "      <td>0.024681</td>\n",
       "    </tr>\n",
       "    <tr>\n",
       "      <th>2020-03-04</th>\n",
       "      <td>144.757690</td>\n",
       "      <td>-0.020568</td>\n",
       "    </tr>\n",
       "    <tr>\n",
       "      <th>2020-03-05</th>\n",
       "      <td>141.197754</td>\n",
       "      <td>-0.024592</td>\n",
       "    </tr>\n",
       "    <tr>\n",
       "      <th>2020-03-06</th>\n",
       "      <td>135.717834</td>\n",
       "      <td>-0.038810</td>\n",
       "    </tr>\n",
       "    <tr>\n",
       "      <th>...</th>\n",
       "      <td>...</td>\n",
       "      <td>...</td>\n",
       "    </tr>\n",
       "    <tr>\n",
       "      <th>2022-01-24</th>\n",
       "      <td>182.899994</td>\n",
       "      <td>-0.050856</td>\n",
       "    </tr>\n",
       "    <tr>\n",
       "      <th>2022-01-25</th>\n",
       "      <td>182.550003</td>\n",
       "      <td>-0.001914</td>\n",
       "    </tr>\n",
       "    <tr>\n",
       "      <th>2022-01-26</th>\n",
       "      <td>184.000000</td>\n",
       "      <td>0.007943</td>\n",
       "    </tr>\n",
       "    <tr>\n",
       "      <th>2022-01-27</th>\n",
       "      <td>187.000000</td>\n",
       "      <td>0.016304</td>\n",
       "    </tr>\n",
       "    <tr>\n",
       "      <th>2022-01-28</th>\n",
       "      <td>188.300003</td>\n",
       "      <td>0.006952</td>\n",
       "    </tr>\n",
       "  </tbody>\n",
       "</table>\n",
       "<p>484 rows × 2 columns</p>\n",
       "</div>"
      ],
      "text/plain": [
       "             Adj Close    Return\n",
       "Date                            \n",
       "2020-03-02  144.237717       NaN\n",
       "2020-03-03  147.797653  0.024681\n",
       "2020-03-04  144.757690 -0.020568\n",
       "2020-03-05  141.197754 -0.024592\n",
       "2020-03-06  135.717834 -0.038810\n",
       "...                ...       ...\n",
       "2022-01-24  182.899994 -0.050856\n",
       "2022-01-25  182.550003 -0.001914\n",
       "2022-01-26  184.000000  0.007943\n",
       "2022-01-27  187.000000  0.016304\n",
       "2022-01-28  188.300003  0.006952\n",
       "\n",
       "[484 rows x 2 columns]"
      ]
     },
     "execution_count": 20,
     "metadata": {},
     "output_type": "execute_result"
    }
   ],
   "source": [
    "JDtraining"
   ]
  },
  {
   "cell_type": "code",
   "execution_count": 21,
   "metadata": {},
   "outputs": [],
   "source": [
    "# calculate daily returns of test set\n",
    "JDtest['Return']=(JDtest['Adj Close']-JDtest.shift(1)['Adj Close'])/JDtest.shift(1)['Adj Close']"
   ]
  },
  {
   "cell_type": "code",
   "execution_count": 22,
   "metadata": {},
   "outputs": [
    {
     "data": {
      "text/html": [
       "<div>\n",
       "<style scoped>\n",
       "    .dataframe tbody tr th:only-of-type {\n",
       "        vertical-align: middle;\n",
       "    }\n",
       "\n",
       "    .dataframe tbody tr th {\n",
       "        vertical-align: top;\n",
       "    }\n",
       "\n",
       "    .dataframe thead th {\n",
       "        text-align: right;\n",
       "    }\n",
       "</style>\n",
       "<table border=\"1\" class=\"dataframe\">\n",
       "  <thead>\n",
       "    <tr style=\"text-align: right;\">\n",
       "      <th></th>\n",
       "      <th>Adj Close</th>\n",
       "      <th>Return</th>\n",
       "    </tr>\n",
       "    <tr>\n",
       "      <th>Date</th>\n",
       "      <th></th>\n",
       "      <th></th>\n",
       "    </tr>\n",
       "  </thead>\n",
       "  <tbody>\n",
       "    <tr>\n",
       "      <th>2022-02-01</th>\n",
       "      <td>191.399994</td>\n",
       "      <td>NaN</td>\n",
       "    </tr>\n",
       "    <tr>\n",
       "      <th>2022-02-02</th>\n",
       "      <td>188.300003</td>\n",
       "      <td>-0.016196</td>\n",
       "    </tr>\n",
       "    <tr>\n",
       "      <th>2022-02-03</th>\n",
       "      <td>184.300003</td>\n",
       "      <td>-0.021243</td>\n",
       "    </tr>\n",
       "    <tr>\n",
       "      <th>2022-02-04</th>\n",
       "      <td>182.000000</td>\n",
       "      <td>-0.012480</td>\n",
       "    </tr>\n",
       "    <tr>\n",
       "      <th>2022-02-07</th>\n",
       "      <td>181.399994</td>\n",
       "      <td>-0.003297</td>\n",
       "    </tr>\n",
       "    <tr>\n",
       "      <th>2022-02-08</th>\n",
       "      <td>179.050003</td>\n",
       "      <td>-0.012955</td>\n",
       "    </tr>\n",
       "    <tr>\n",
       "      <th>2022-02-09</th>\n",
       "      <td>181.899994</td>\n",
       "      <td>0.015917</td>\n",
       "    </tr>\n",
       "    <tr>\n",
       "      <th>2022-02-10</th>\n",
       "      <td>178.850006</td>\n",
       "      <td>-0.016767</td>\n",
       "    </tr>\n",
       "    <tr>\n",
       "      <th>2022-02-11</th>\n",
       "      <td>174.649994</td>\n",
       "      <td>-0.023483</td>\n",
       "    </tr>\n",
       "    <tr>\n",
       "      <th>2022-02-14</th>\n",
       "      <td>168.500000</td>\n",
       "      <td>-0.035213</td>\n",
       "    </tr>\n",
       "    <tr>\n",
       "      <th>2022-02-15</th>\n",
       "      <td>168.850006</td>\n",
       "      <td>0.002077</td>\n",
       "    </tr>\n",
       "    <tr>\n",
       "      <th>2022-02-16</th>\n",
       "      <td>166.000000</td>\n",
       "      <td>-0.016879</td>\n",
       "    </tr>\n",
       "    <tr>\n",
       "      <th>2022-02-17</th>\n",
       "      <td>165.000000</td>\n",
       "      <td>-0.006024</td>\n",
       "    </tr>\n",
       "    <tr>\n",
       "      <th>2022-02-18</th>\n",
       "      <td>165.699997</td>\n",
       "      <td>0.004242</td>\n",
       "    </tr>\n",
       "    <tr>\n",
       "      <th>2022-02-21</th>\n",
       "      <td>161.550003</td>\n",
       "      <td>-0.025045</td>\n",
       "    </tr>\n",
       "    <tr>\n",
       "      <th>2022-02-22</th>\n",
       "      <td>160.600006</td>\n",
       "      <td>-0.005881</td>\n",
       "    </tr>\n",
       "    <tr>\n",
       "      <th>2022-02-23</th>\n",
       "      <td>155.850006</td>\n",
       "      <td>-0.029577</td>\n",
       "    </tr>\n",
       "    <tr>\n",
       "      <th>2022-02-24</th>\n",
       "      <td>153.500000</td>\n",
       "      <td>-0.015079</td>\n",
       "    </tr>\n",
       "    <tr>\n",
       "      <th>2022-02-25</th>\n",
       "      <td>150.250000</td>\n",
       "      <td>-0.021173</td>\n",
       "    </tr>\n",
       "    <tr>\n",
       "      <th>2022-02-28</th>\n",
       "      <td>151.000000</td>\n",
       "      <td>0.004992</td>\n",
       "    </tr>\n",
       "  </tbody>\n",
       "</table>\n",
       "</div>"
      ],
      "text/plain": [
       "             Adj Close    Return\n",
       "Date                            \n",
       "2022-02-01  191.399994       NaN\n",
       "2022-02-02  188.300003 -0.016196\n",
       "2022-02-03  184.300003 -0.021243\n",
       "2022-02-04  182.000000 -0.012480\n",
       "2022-02-07  181.399994 -0.003297\n",
       "2022-02-08  179.050003 -0.012955\n",
       "2022-02-09  181.899994  0.015917\n",
       "2022-02-10  178.850006 -0.016767\n",
       "2022-02-11  174.649994 -0.023483\n",
       "2022-02-14  168.500000 -0.035213\n",
       "2022-02-15  168.850006  0.002077\n",
       "2022-02-16  166.000000 -0.016879\n",
       "2022-02-17  165.000000 -0.006024\n",
       "2022-02-18  165.699997  0.004242\n",
       "2022-02-21  161.550003 -0.025045\n",
       "2022-02-22  160.600006 -0.005881\n",
       "2022-02-23  155.850006 -0.029577\n",
       "2022-02-24  153.500000 -0.015079\n",
       "2022-02-25  150.250000 -0.021173\n",
       "2022-02-28  151.000000  0.004992"
      ]
     },
     "execution_count": 22,
     "metadata": {},
     "output_type": "execute_result"
    }
   ],
   "source": [
    "JDtest"
   ]
  },
  {
   "cell_type": "code",
   "execution_count": 23,
   "metadata": {},
   "outputs": [],
   "source": [
    "JDtest.iloc[0,1]=(JDtest.iloc[0,0]-JDtraining.iloc[-1,0])/JDtraining.iloc[-1,0]"
   ]
  },
  {
   "cell_type": "code",
   "execution_count": 24,
   "metadata": {},
   "outputs": [
    {
     "data": {
      "text/html": [
       "<div>\n",
       "<style scoped>\n",
       "    .dataframe tbody tr th:only-of-type {\n",
       "        vertical-align: middle;\n",
       "    }\n",
       "\n",
       "    .dataframe tbody tr th {\n",
       "        vertical-align: top;\n",
       "    }\n",
       "\n",
       "    .dataframe thead th {\n",
       "        text-align: right;\n",
       "    }\n",
       "</style>\n",
       "<table border=\"1\" class=\"dataframe\">\n",
       "  <thead>\n",
       "    <tr style=\"text-align: right;\">\n",
       "      <th></th>\n",
       "      <th>Adj Close</th>\n",
       "      <th>Return</th>\n",
       "    </tr>\n",
       "    <tr>\n",
       "      <th>Date</th>\n",
       "      <th></th>\n",
       "      <th></th>\n",
       "    </tr>\n",
       "  </thead>\n",
       "  <tbody>\n",
       "    <tr>\n",
       "      <th>2022-02-01</th>\n",
       "      <td>191.399994</td>\n",
       "      <td>0.016463</td>\n",
       "    </tr>\n",
       "    <tr>\n",
       "      <th>2022-02-02</th>\n",
       "      <td>188.300003</td>\n",
       "      <td>-0.016196</td>\n",
       "    </tr>\n",
       "    <tr>\n",
       "      <th>2022-02-03</th>\n",
       "      <td>184.300003</td>\n",
       "      <td>-0.021243</td>\n",
       "    </tr>\n",
       "    <tr>\n",
       "      <th>2022-02-04</th>\n",
       "      <td>182.000000</td>\n",
       "      <td>-0.012480</td>\n",
       "    </tr>\n",
       "    <tr>\n",
       "      <th>2022-02-07</th>\n",
       "      <td>181.399994</td>\n",
       "      <td>-0.003297</td>\n",
       "    </tr>\n",
       "    <tr>\n",
       "      <th>2022-02-08</th>\n",
       "      <td>179.050003</td>\n",
       "      <td>-0.012955</td>\n",
       "    </tr>\n",
       "    <tr>\n",
       "      <th>2022-02-09</th>\n",
       "      <td>181.899994</td>\n",
       "      <td>0.015917</td>\n",
       "    </tr>\n",
       "    <tr>\n",
       "      <th>2022-02-10</th>\n",
       "      <td>178.850006</td>\n",
       "      <td>-0.016767</td>\n",
       "    </tr>\n",
       "    <tr>\n",
       "      <th>2022-02-11</th>\n",
       "      <td>174.649994</td>\n",
       "      <td>-0.023483</td>\n",
       "    </tr>\n",
       "    <tr>\n",
       "      <th>2022-02-14</th>\n",
       "      <td>168.500000</td>\n",
       "      <td>-0.035213</td>\n",
       "    </tr>\n",
       "    <tr>\n",
       "      <th>2022-02-15</th>\n",
       "      <td>168.850006</td>\n",
       "      <td>0.002077</td>\n",
       "    </tr>\n",
       "    <tr>\n",
       "      <th>2022-02-16</th>\n",
       "      <td>166.000000</td>\n",
       "      <td>-0.016879</td>\n",
       "    </tr>\n",
       "    <tr>\n",
       "      <th>2022-02-17</th>\n",
       "      <td>165.000000</td>\n",
       "      <td>-0.006024</td>\n",
       "    </tr>\n",
       "    <tr>\n",
       "      <th>2022-02-18</th>\n",
       "      <td>165.699997</td>\n",
       "      <td>0.004242</td>\n",
       "    </tr>\n",
       "    <tr>\n",
       "      <th>2022-02-21</th>\n",
       "      <td>161.550003</td>\n",
       "      <td>-0.025045</td>\n",
       "    </tr>\n",
       "    <tr>\n",
       "      <th>2022-02-22</th>\n",
       "      <td>160.600006</td>\n",
       "      <td>-0.005881</td>\n",
       "    </tr>\n",
       "    <tr>\n",
       "      <th>2022-02-23</th>\n",
       "      <td>155.850006</td>\n",
       "      <td>-0.029577</td>\n",
       "    </tr>\n",
       "    <tr>\n",
       "      <th>2022-02-24</th>\n",
       "      <td>153.500000</td>\n",
       "      <td>-0.015079</td>\n",
       "    </tr>\n",
       "    <tr>\n",
       "      <th>2022-02-25</th>\n",
       "      <td>150.250000</td>\n",
       "      <td>-0.021173</td>\n",
       "    </tr>\n",
       "    <tr>\n",
       "      <th>2022-02-28</th>\n",
       "      <td>151.000000</td>\n",
       "      <td>0.004992</td>\n",
       "    </tr>\n",
       "  </tbody>\n",
       "</table>\n",
       "</div>"
      ],
      "text/plain": [
       "             Adj Close    Return\n",
       "Date                            \n",
       "2022-02-01  191.399994  0.016463\n",
       "2022-02-02  188.300003 -0.016196\n",
       "2022-02-03  184.300003 -0.021243\n",
       "2022-02-04  182.000000 -0.012480\n",
       "2022-02-07  181.399994 -0.003297\n",
       "2022-02-08  179.050003 -0.012955\n",
       "2022-02-09  181.899994  0.015917\n",
       "2022-02-10  178.850006 -0.016767\n",
       "2022-02-11  174.649994 -0.023483\n",
       "2022-02-14  168.500000 -0.035213\n",
       "2022-02-15  168.850006  0.002077\n",
       "2022-02-16  166.000000 -0.016879\n",
       "2022-02-17  165.000000 -0.006024\n",
       "2022-02-18  165.699997  0.004242\n",
       "2022-02-21  161.550003 -0.025045\n",
       "2022-02-22  160.600006 -0.005881\n",
       "2022-02-23  155.850006 -0.029577\n",
       "2022-02-24  153.500000 -0.015079\n",
       "2022-02-25  150.250000 -0.021173\n",
       "2022-02-28  151.000000  0.004992"
      ]
     },
     "execution_count": 24,
     "metadata": {},
     "output_type": "execute_result"
    }
   ],
   "source": [
    "JDtest"
   ]
  },
  {
   "cell_type": "markdown",
   "metadata": {},
   "source": [
    "### Descriptive statistics"
   ]
  },
  {
   "cell_type": "code",
   "execution_count": 25,
   "metadata": {},
   "outputs": [
    {
     "data": {
      "text/plain": [
       "Adj Close    166.527767\n",
       "Return         0.001114\n",
       "dtype: float64"
      ]
     },
     "execution_count": 25,
     "metadata": {},
     "output_type": "execute_result"
    }
   ],
   "source": [
    "JDtraining.mean()"
   ]
  },
  {
   "cell_type": "code",
   "execution_count": 26,
   "metadata": {},
   "outputs": [
    {
     "data": {
      "text/plain": [
       "Adj Close    166.797348\n",
       "Return        -0.000459\n",
       "dtype: float64"
      ]
     },
     "execution_count": 26,
     "metadata": {},
     "output_type": "execute_result"
    }
   ],
   "source": [
    "JDtraining.median()"
   ]
  },
  {
   "cell_type": "code",
   "execution_count": 27,
   "metadata": {},
   "outputs": [
    {
     "data": {
      "text/plain": [
       "Adj Close    1329.607497\n",
       "Return          0.001135\n",
       "dtype: float64"
      ]
     },
     "execution_count": 27,
     "metadata": {},
     "output_type": "execute_result"
    }
   ],
   "source": [
    "#Sample variance\n",
    "JDtraining.var()"
   ]
  },
  {
   "cell_type": "code",
   "execution_count": 28,
   "metadata": {},
   "outputs": [
    {
     "data": {
      "text/plain": [
       "Adj Close    1326.860374\n",
       "Return          0.001133\n",
       "dtype: float64"
      ]
     },
     "execution_count": 28,
     "metadata": {},
     "output_type": "execute_result"
    }
   ],
   "source": [
    "#Population variance, not required for your assignment\n",
    "JDtraining.var(ddof=0)"
   ]
  },
  {
   "cell_type": "code",
   "execution_count": 29,
   "metadata": {},
   "outputs": [
    {
     "data": {
      "text/plain": [
       "Adj Close    36.463783\n",
       "Return        0.033697\n",
       "dtype: float64"
      ]
     },
     "execution_count": 29,
     "metadata": {},
     "output_type": "execute_result"
    }
   ],
   "source": [
    "# Sample standard deviation\n",
    "JDtraining.std()"
   ]
  },
  {
   "cell_type": "code",
   "execution_count": 30,
   "metadata": {},
   "outputs": [
    {
     "data": {
      "text/plain": [
       "Adj Close    36.426095\n",
       "Return        0.033662\n",
       "dtype: float64"
      ]
     },
     "execution_count": 30,
     "metadata": {},
     "output_type": "execute_result"
    }
   ],
   "source": [
    "# Population standard deviation, not required\n",
    "JDtraining.std(ddof=0)"
   ]
  },
  {
   "cell_type": "code",
   "execution_count": 31,
   "metadata": {},
   "outputs": [
    {
     "data": {
      "text/plain": [
       "0.03307316631317267"
      ]
     },
     "execution_count": 31,
     "metadata": {},
     "output_type": "execute_result"
    }
   ],
   "source": [
    "# Return to risk = mean of returns/std of returns\n",
    "JDtraining['Return'].mean()/JDtraining['Return'].std()"
   ]
  },
  {
   "cell_type": "code",
   "execution_count": 32,
   "metadata": {},
   "outputs": [
    {
     "data": {
      "text/html": [
       "<div>\n",
       "<style scoped>\n",
       "    .dataframe tbody tr th:only-of-type {\n",
       "        vertical-align: middle;\n",
       "    }\n",
       "\n",
       "    .dataframe tbody tr th {\n",
       "        vertical-align: top;\n",
       "    }\n",
       "\n",
       "    .dataframe thead th {\n",
       "        text-align: right;\n",
       "    }\n",
       "</style>\n",
       "<table border=\"1\" class=\"dataframe\">\n",
       "  <thead>\n",
       "    <tr style=\"text-align: right;\">\n",
       "      <th></th>\n",
       "      <th>Adj Close</th>\n",
       "      <th>Return</th>\n",
       "    </tr>\n",
       "  </thead>\n",
       "  <tbody>\n",
       "    <tr>\n",
       "      <th>count</th>\n",
       "      <td>484.000000</td>\n",
       "      <td>483.000000</td>\n",
       "    </tr>\n",
       "    <tr>\n",
       "      <th>mean</th>\n",
       "      <td>166.527767</td>\n",
       "      <td>0.001114</td>\n",
       "    </tr>\n",
       "    <tr>\n",
       "      <th>std</th>\n",
       "      <td>36.463783</td>\n",
       "      <td>0.033697</td>\n",
       "    </tr>\n",
       "    <tr>\n",
       "      <th>min</th>\n",
       "      <td>58.639065</td>\n",
       "      <td>-0.186110</td>\n",
       "    </tr>\n",
       "    <tr>\n",
       "      <th>25%</th>\n",
       "      <td>141.527740</td>\n",
       "      <td>-0.013009</td>\n",
       "    </tr>\n",
       "    <tr>\n",
       "      <th>50%</th>\n",
       "      <td>166.797348</td>\n",
       "      <td>-0.000459</td>\n",
       "    </tr>\n",
       "    <tr>\n",
       "      <th>75%</th>\n",
       "      <td>189.766975</td>\n",
       "      <td>0.014323</td>\n",
       "    </tr>\n",
       "    <tr>\n",
       "      <th>max</th>\n",
       "      <td>234.000000</td>\n",
       "      <td>0.201574</td>\n",
       "    </tr>\n",
       "  </tbody>\n",
       "</table>\n",
       "</div>"
      ],
      "text/plain": [
       "        Adj Close      Return\n",
       "count  484.000000  483.000000\n",
       "mean   166.527767    0.001114\n",
       "std     36.463783    0.033697\n",
       "min     58.639065   -0.186110\n",
       "25%    141.527740   -0.013009\n",
       "50%    166.797348   -0.000459\n",
       "75%    189.766975    0.014323\n",
       "max    234.000000    0.201574"
      ]
     },
     "execution_count": 32,
     "metadata": {},
     "output_type": "execute_result"
    }
   ],
   "source": [
    "JDtraining.describe()"
   ]
  },
  {
   "cell_type": "markdown",
   "metadata": {},
   "source": [
    "### Histogram, Boxplot and Line charts"
   ]
  },
  {
   "cell_type": "code",
   "execution_count": null,
   "metadata": {},
   "outputs": [],
   "source": []
  },
  {
   "cell_type": "code",
   "execution_count": 33,
   "metadata": {},
   "outputs": [
    {
     "data": {
      "text/plain": [
       "array([[<AxesSubplot:title={'center':'Adj Close'}>,\n",
       "        <AxesSubplot:title={'center':'Return'}>]], dtype=object)"
      ]
     },
     "execution_count": 33,
     "metadata": {},
     "output_type": "execute_result"
    },
    {
     "data": {
      "image/png": "[encoded data removed]",
      "text/plain": [
       "<Figure size 432x288 with 2 Axes>"
      ]
     },
     "metadata": {
      "needs_background": "light"
     },
     "output_type": "display_data"
    }
   ],
   "source": [
    "JDtraining.hist()"
   ]
  },
  {
   "cell_type": "code",
   "execution_count": 34,
   "metadata": {},
   "outputs": [
    {
     "data": {
      "text/plain": [
       "array([[<AxesSubplot:title={'center':'Return'}>]], dtype=object)"
      ]
     },
     "execution_count": 34,
     "metadata": {},
     "output_type": "execute_result"
    },
    {
     "data": {
      "image/png": "[encoded data removed]",
      "text/plain": [
       "<Figure size 432x288 with 1 Axes>"
      ]
     },
     "metadata": {
      "needs_background": "light"
     },
     "output_type": "display_data"
    }
   ],
   "source": [
    "JDtraining.hist(column='Return',bins=20)"
   ]
  },
  {
   "cell_type": "code",
   "execution_count": 35,
   "metadata": {},
   "outputs": [
    {
     "data": {
      "text/plain": [
       "(array([  2.,   0.,   1.,   1.,   0.,   3.,   6.,  33.,  84., 188.,  97.,\n",
       "         45.,   9.,   4.,   6.,   0.,   0.,   1.,   0.,   3.]),\n",
       " array([-0.18610996, -0.16672578, -0.1473416 , -0.12795742, -0.10857325,\n",
       "        -0.08918907, -0.06980489, -0.05042071, -0.03103653, -0.01165235,\n",
       "         0.00773183,  0.02711601,  0.04650019,  0.06588437,  0.08526855,\n",
       "         0.10465273,  0.12403691,  0.14342109,  0.16280527,  0.18218945,\n",
       "         0.20157363]),\n",
       " <BarContainer object of 20 artists>)"
      ]
     },
     "execution_count": 35,
     "metadata": {},
     "output_type": "execute_result"
    },
    {
     "data": {
      "image/png": "[encoded data removed]",
      "text/plain": [
       "<Figure size 432x288 with 1 Axes>"
      ]
     },
     "metadata": {
      "needs_background": "light"
     },
     "output_type": "display_data"
    }
   ],
   "source": [
    "mp.pyplot.hist(JDtraining['Return'],bins=20)"
   ]
  },
  {
   "cell_type": "code",
   "execution_count": 36,
   "metadata": {},
   "outputs": [
    {
     "data": {
      "text/plain": [
       "Text(-0.0005509978077926453, 14, 'Median: -0.0005')"
      ]
     },
     "execution_count": 36,
     "metadata": {},
     "output_type": "execute_result"
    },
    {
     "data": {
      "image/png": "[encoded data removed]",
      "text/plain": [
       "<Figure size 432x288 with 1 Axes>"
      ]
     },
     "metadata": {
      "needs_background": "light"
     },
     "output_type": "display_data"
    }
   ],
   "source": [
    "htg=mp.pyplot.hist(JDtraining['Return'],bins=20,density=True,cumulative=False,histtype='bar',color='c')\n",
    "mp.pyplot.axvline(JDtraining['Return'].mean())\n",
    "mp.pyplot.text(JDtraining['Return'].mean()*1.1,18,'Mean: {:,.4f}'.format(JDtraining['Return'].mean()))\n",
    "mp.pyplot.axvline(JDtraining['Return'].median(),color='r')\n",
    "mp.pyplot.text(JDtraining['Return'].median()*1.2,14,'Median: {:,.4f}'.format(JDtraining['Return'].median()))"
   ]
  },
  {
   "cell_type": "code",
   "execution_count": 37,
   "metadata": {},
   "outputs": [
    {
     "data": {
      "text/plain": [
       "Text(166.79734802246094, 40, 'Median: 166.7973')"
      ]
     },
     "execution_count": 37,
     "metadata": {},
     "output_type": "execute_result"
    },
    {
     "data": {
      "image/png": "[encoded data removed]",
      "text/plain": [
       "<Figure size 432x288 with 1 Axes>"
      ]
     },
     "metadata": {
      "needs_background": "light"
     },
     "output_type": "display_data"
    }
   ],
   "source": [
    "htg=mp.pyplot.hist(JDtraining['Adj Close'],bins=30,density=False,cumulative=False,histtype='bar',color='c')\n",
    "mp.pyplot.axvline(JDtraining['Adj Close'].mean())\n",
    "mp.pyplot.text(JDtraining['Adj Close'].mean(),55,'Mean: {:,.4f}'.format(JDtraining['Adj Close'].mean()))\n",
    "mp.pyplot.axvline(JDtraining['Adj Close'].median(),color='r')\n",
    "mp.pyplot.text(JDtraining['Adj Close'].median(),40,'Median: {:,.4f}'.format(JDtraining['Adj Close'].median()))"
   ]
  },
  {
   "cell_type": "code",
   "execution_count": 38,
   "metadata": {},
   "outputs": [
    {
     "data": {
      "text/plain": [
       "<AxesSubplot:>"
      ]
     },
     "execution_count": 38,
     "metadata": {},
     "output_type": "execute_result"
    },
    {
     "data": {
      "image/png": "[encoded data removed]",
      "text/plain": [
       "<Figure size 432x288 with 1 Axes>"
      ]
     },
     "metadata": {
      "needs_background": "light"
     },
     "output_type": "display_data"
    }
   ],
   "source": [
    "JDtraining.boxplot(column='Adj Close')"
   ]
  },
  {
   "cell_type": "code",
   "execution_count": 39,
   "metadata": {},
   "outputs": [
    {
     "data": {
      "text/plain": [
       "Text(0, 0.5, 'JD price')"
      ]
     },
     "execution_count": 39,
     "metadata": {},
     "output_type": "execute_result"
    },
    {
     "data": {
      "image/png": "[encoded data removed]",
      "text/plain": [
       "<Figure size 432x288 with 1 Axes>"
      ]
     },
     "metadata": {
      "needs_background": "light"
     },
     "output_type": "display_data"
    }
   ],
   "source": [
    "priceline=JDtraining.plot.line(y='Adj Close',legend=False)\n",
    "priceline.set_xlabel(\"Date\")\n",
    "priceline.set_ylabel(\"JD price\")"
   ]
  },
  {
   "cell_type": "markdown",
   "metadata": {},
   "source": [
    "## Time Series"
   ]
  },
  {
   "cell_type": "markdown",
   "metadata": {},
   "source": [
    "### Moving Average"
   ]
  },
  {
   "cell_type": "code",
   "execution_count": 40,
   "metadata": {},
   "outputs": [],
   "source": [
    "ma5=JDtraining.rolling(5).mean()"
   ]
  },
  {
   "cell_type": "code",
   "execution_count": 41,
   "metadata": {},
   "outputs": [],
   "source": [
    "ma20=JDtraining.rolling(20).mean()"
   ]
  },
  {
   "cell_type": "code",
   "execution_count": 42,
   "metadata": {},
   "outputs": [],
   "source": [
    "priceMAdata=pd.DataFrame({'Price':JDtraining['Adj Close'],'MA5':ma5['Adj Close'],'MA20':ma20['Adj Close']})"
   ]
  },
  {
   "cell_type": "code",
   "execution_count": 43,
   "metadata": {},
   "outputs": [
    {
     "data": {
      "text/plain": [
       "<AxesSubplot:xlabel='Date'>"
      ]
     },
     "execution_count": 43,
     "metadata": {},
     "output_type": "execute_result"
    },
    {
     "data": {
      "image/png": "[encoded data removed]",
      "text/plain": [
       "<Figure size 432x288 with 1 Axes>"
      ]
     },
     "metadata": {
      "needs_background": "light"
     },
     "output_type": "display_data"
    }
   ],
   "source": [
    "priceMAdata.plot.line()\n",
    "#mp.pyplot.show()"
   ]
  },
  {
   "cell_type": "code",
   "execution_count": 44,
   "metadata": {},
   "outputs": [
    {
     "data": {
      "image/png": "[encoded data removed]",
      "text/plain": [
       "<Figure size 1080x576 with 1 Axes>"
      ]
     },
     "metadata": {
      "needs_background": "light"
     },
     "output_type": "display_data"
    }
   ],
   "source": [
    "JDtraining['Adj Close'].plot(figsize=(15,8), title= 'JD price', fontsize=14)\n",
    "JDtest['Adj Close'].plot(figsize=(15,8), title= 'JD price', fontsize=14)\n",
    "priceMAdata['MA5'].plot(figsize=(15,8), title= 'JD price', fontsize=14)\n",
    "mp.pyplot.show()"
   ]
  },
  {
   "cell_type": "code",
   "execution_count": null,
   "metadata": {},
   "outputs": [],
   "source": []
  },
  {
   "cell_type": "code",
   "execution_count": null,
   "metadata": {},
   "outputs": [],
   "source": []
  }
 ],
 "metadata": {
  "kernelspec": {
   "display_name": "Python 3 (ipykernel)",
   "language": "python",
   "name": "python3"
  },
  "language_info": {
   "codemirror_mode": {
    "name": "ipython",
    "version": 3
   },
   "file_extension": ".py",
   "mimetype": "text/x-python",
   "name": "python",
   "nbconvert_exporter": "python",
   "pygments_lexer": "ipython3",
   "version": "3.9.7"
  }
 },
 "nbformat": 4,
 "nbformat_minor": 4
}
