{
 "cells": [
  {
   "cell_type": "code",
   "execution_count": 1,
   "id": "353f02f5",
   "metadata": {},
   "outputs": [
    {
     "name": "stdout",
     "output_type": "stream",
     "text": [
      "Requirement already satisfied: yfinance in /Users/milo/anaconda3/lib/python3.9/site-packages (0.1.70)\n",
      "Requirement already satisfied: requests>=2.26 in /Users/milo/anaconda3/lib/python3.9/site-packages (from yfinance) (2.26.0)\n",
      "Requirement already satisfied: numpy>=1.15 in /Users/milo/anaconda3/lib/python3.9/site-packages (from yfinance) (1.20.3)\n",
      "Requirement already satisfied: pandas>=0.24.0 in /Users/milo/anaconda3/lib/python3.9/site-packages (from yfinance) (1.3.4)\n",
      "Requirement already satisfied: multitasking>=0.0.7 in /Users/milo/anaconda3/lib/python3.9/site-packages (from yfinance) (0.0.10)\n",
      "Requirement already satisfied: lxml>=4.5.1 in /Users/milo/anaconda3/lib/python3.9/site-packages (from yfinance) (4.6.3)\n",
      "Requirement already satisfied: python-dateutil>=2.7.3 in /Users/milo/anaconda3/lib/python3.9/site-packages (from pandas>=0.24.0->yfinance) (2.8.2)\n",
      "Requirement already satisfied: pytz>=2017.3 in /Users/milo/anaconda3/lib/python3.9/site-packages (from pandas>=0.24.0->yfinance) (2021.3)\n",
      "Requirement already satisfied: six>=1.5 in /Users/milo/anaconda3/lib/python3.9/site-packages (from python-dateutil>=2.7.3->pandas>=0.24.0->yfinance) (1.16.0)\n",
      "Requirement already satisfied: idna<4,>=2.5 in /Users/milo/anaconda3/lib/python3.9/site-packages (from requests>=2.26->yfinance) (3.2)\n",
      "Requirement already satisfied: charset-normalizer~=2.0.0 in /Users/milo/anaconda3/lib/python3.9/site-packages (from requests>=2.26->yfinance) (2.0.4)\n",
      "Requirement already satisfied: urllib3<1.27,>=1.21.1 in /Users/milo/anaconda3/lib/python3.9/site-packages (from requests>=2.26->yfinance) (1.26.7)\n",
      "Requirement already satisfied: certifi>=2017.4.17 in /Users/milo/anaconda3/lib/python3.9/site-packages (from requests>=2.26->yfinance) (2021.10.8)\n",
      "Note: you may need to restart the kernel to use updated packages.\n"
     ]
    }
   ],
   "source": [
    "pip install yfinance"
   ]
  },
  {
   "cell_type": "code",
   "execution_count": 2,
   "id": "467fbc25",
   "metadata": {},
   "outputs": [],
   "source": [
    "import pandas as pd\n",
    "import yfinance as yf\n",
    "import numpy as np\n",
    "import matplotlib as mp\n",
    "import statsmodels as ss\n",
    "import matplotlib.pyplot as plt"
   ]
  },
  {
   "cell_type": "code",
   "execution_count": 3,
   "id": "955bfc69",
   "metadata": {},
   "outputs": [
    {
     "name": "stdout",
     "output_type": "stream",
     "text": [
      "[*********************100%***********************]  1 of 1 completed\n"
     ]
    }
   ],
   "source": [
    "MNDI=yf.download('MNDI.L',start=\"2020-03-02\", end=\"2022-02-28\")"
   ]
  },
  {
   "cell_type": "code",
   "execution_count": 4,
   "id": "99775d8f",
   "metadata": {},
   "outputs": [
    {
     "name": "stdout",
     "output_type": "stream",
     "text": [
      "              Open    High         Low   Close    Adj Close   Volume\n",
      "Date                                                                \n",
      "2020-03-02  1589.0  1608.5  1529.86499  1572.0  1570.459839  3403123\n",
      "2020-03-03  1598.0  1648.5  1588.00000  1611.0  1609.421631  2680751\n",
      "2020-03-04  1620.0  1660.5  1613.50000  1659.5  1657.874023  2462905\n",
      "2020-03-05  1678.5  1678.5  1620.50000  1628.0  1626.405029  3392459\n",
      "2020-03-06  1588.0  1614.5  1575.50000  1591.0  1589.441284  3805706\n",
      "...            ...     ...         ...     ...          ...      ...\n",
      "2022-02-21  1940.5  1953.0  1911.00000  1912.5  1912.500000  1480887\n",
      "2022-02-22  1858.0  1920.0  1852.00000  1898.5  1898.500000  1912962\n",
      "2022-02-23  1911.5  1935.5  1900.50000  1908.5  1908.500000  1172399\n",
      "2022-02-24  1805.5  1844.5  1684.00000  1684.0  1684.000000  3356030\n",
      "2022-02-25  1728.5  1792.0  1684.00000  1786.5  1786.500000  2686973\n",
      "\n",
      "[504 rows x 6 columns]\n"
     ]
    }
   ],
   "source": [
    "print(MNDI)"
   ]
  },
  {
   "cell_type": "code",
   "execution_count": 5,
   "id": "7d555ba1",
   "metadata": {},
   "outputs": [],
   "source": [
    "#Training set\n",
    "MNDItraining=MNDI.iloc[0:483]"
   ]
  },
  {
   "cell_type": "code",
   "execution_count": 6,
   "id": "b6aed567",
   "metadata": {},
   "outputs": [],
   "source": [
    "MNDItraining=MNDItraining.drop(columns=['Open','High','Low','Close','Volume'])"
   ]
  },
  {
   "cell_type": "code",
   "execution_count": 7,
   "id": "bf4ff6c3",
   "metadata": {},
   "outputs": [
    {
     "name": "stdout",
     "output_type": "stream",
     "text": [
      "              Adj Close\n",
      "Date                   \n",
      "2020-03-02  1570.459839\n",
      "2020-03-03  1609.421631\n",
      "2020-03-04  1657.874023\n",
      "2020-03-05  1626.405029\n",
      "2020-03-06  1589.441284\n",
      "...                 ...\n",
      "2022-01-21  1864.500000\n",
      "2022-01-24  1765.000000\n",
      "2022-01-25  1786.000000\n",
      "2022-01-26  1814.500000\n",
      "2022-01-27  1848.500000\n",
      "\n",
      "[483 rows x 1 columns]\n"
     ]
    }
   ],
   "source": [
    "print(MNDItraining)"
   ]
  },
  {
   "cell_type": "code",
   "execution_count": 8,
   "id": "129b6196",
   "metadata": {},
   "outputs": [],
   "source": [
    "#Test set\n",
    "MNDItest=MNDI.iloc[484:504]"
   ]
  },
  {
   "cell_type": "code",
   "execution_count": 9,
   "id": "9ac5c89f",
   "metadata": {},
   "outputs": [],
   "source": [
    "MNDItest=MNDItest.drop(columns=['Open','High','Low','Close','Volume'])"
   ]
  },
  {
   "cell_type": "code",
   "execution_count": 10,
   "id": "8300f3cf",
   "metadata": {},
   "outputs": [
    {
     "name": "stdout",
     "output_type": "stream",
     "text": [
      "            Adj Close\n",
      "Date                 \n",
      "2022-01-31     1839.0\n",
      "2022-02-01     1869.5\n",
      "2022-02-02     1881.5\n",
      "2022-02-03     1853.0\n",
      "2022-02-04     1854.5\n",
      "2022-02-07     1845.0\n",
      "2022-02-08     1856.5\n",
      "2022-02-09     1921.5\n",
      "2022-02-10     1950.5\n",
      "2022-02-11     1909.0\n",
      "2022-02-14     1864.5\n",
      "2022-02-15     1904.0\n",
      "2022-02-16     1914.0\n",
      "2022-02-17     1909.0\n",
      "2022-02-18     1924.0\n",
      "2022-02-21     1912.5\n",
      "2022-02-22     1898.5\n",
      "2022-02-23     1908.5\n",
      "2022-02-24     1684.0\n",
      "2022-02-25     1786.5\n"
     ]
    }
   ],
   "source": [
    "print(MNDItest)"
   ]
  },
  {
   "cell_type": "code",
   "execution_count": 11,
   "id": "2a934ff8",
   "metadata": {},
   "outputs": [],
   "source": [
    "#The formula is: today's return = (today's price - yesterday's price)/yesterday's price\n",
    "returns=(MNDItraining['Adj Close']-MNDItraining.shift(1)['Adj Close'])/MNDItraining.shift(1)['Adj Close']\n",
    "# JDtraining.shift(1) can shift all records down by one row."
   ]
  },
  {
   "cell_type": "code",
   "execution_count": 12,
   "id": "971909d3",
   "metadata": {},
   "outputs": [],
   "source": [
    "MNDItraining['Return']=returns"
   ]
  },
  {
   "cell_type": "code",
   "execution_count": 13,
   "id": "90c8b330",
   "metadata": {},
   "outputs": [
    {
     "data": {
      "text/html": [
       "<div>\n",
       "<style scoped>\n",
       "    .dataframe tbody tr th:only-of-type {\n",
       "        vertical-align: middle;\n",
       "    }\n",
       "\n",
       "    .dataframe tbody tr th {\n",
       "        vertical-align: top;\n",
       "    }\n",
       "\n",
       "    .dataframe thead th {\n",
       "        text-align: right;\n",
       "    }\n",
       "</style>\n",
       "<table border=\"1\" class=\"dataframe\">\n",
       "  <thead>\n",
       "    <tr style=\"text-align: right;\">\n",
       "      <th></th>\n",
       "      <th>Adj Close</th>\n",
       "      <th>Return</th>\n",
       "    </tr>\n",
       "    <tr>\n",
       "      <th>Date</th>\n",
       "      <th></th>\n",
       "      <th></th>\n",
       "    </tr>\n",
       "  </thead>\n",
       "  <tbody>\n",
       "    <tr>\n",
       "      <th>2020-03-02</th>\n",
       "      <td>1570.459839</td>\n",
       "      <td>NaN</td>\n",
       "    </tr>\n",
       "    <tr>\n",
       "      <th>2020-03-03</th>\n",
       "      <td>1609.421631</td>\n",
       "      <td>0.024809</td>\n",
       "    </tr>\n",
       "    <tr>\n",
       "      <th>2020-03-04</th>\n",
       "      <td>1657.874023</td>\n",
       "      <td>0.030105</td>\n",
       "    </tr>\n",
       "    <tr>\n",
       "      <th>2020-03-05</th>\n",
       "      <td>1626.405029</td>\n",
       "      <td>-0.018982</td>\n",
       "    </tr>\n",
       "    <tr>\n",
       "      <th>2020-03-06</th>\n",
       "      <td>1589.441284</td>\n",
       "      <td>-0.022727</td>\n",
       "    </tr>\n",
       "    <tr>\n",
       "      <th>...</th>\n",
       "      <td>...</td>\n",
       "      <td>...</td>\n",
       "    </tr>\n",
       "    <tr>\n",
       "      <th>2022-01-21</th>\n",
       "      <td>1864.500000</td>\n",
       "      <td>-0.017132</td>\n",
       "    </tr>\n",
       "    <tr>\n",
       "      <th>2022-01-24</th>\n",
       "      <td>1765.000000</td>\n",
       "      <td>-0.053366</td>\n",
       "    </tr>\n",
       "    <tr>\n",
       "      <th>2022-01-25</th>\n",
       "      <td>1786.000000</td>\n",
       "      <td>0.011898</td>\n",
       "    </tr>\n",
       "    <tr>\n",
       "      <th>2022-01-26</th>\n",
       "      <td>1814.500000</td>\n",
       "      <td>0.015957</td>\n",
       "    </tr>\n",
       "    <tr>\n",
       "      <th>2022-01-27</th>\n",
       "      <td>1848.500000</td>\n",
       "      <td>0.018738</td>\n",
       "    </tr>\n",
       "  </tbody>\n",
       "</table>\n",
       "<p>483 rows × 2 columns</p>\n",
       "</div>"
      ],
      "text/plain": [
       "              Adj Close    Return\n",
       "Date                             \n",
       "2020-03-02  1570.459839       NaN\n",
       "2020-03-03  1609.421631  0.024809\n",
       "2020-03-04  1657.874023  0.030105\n",
       "2020-03-05  1626.405029 -0.018982\n",
       "2020-03-06  1589.441284 -0.022727\n",
       "...                 ...       ...\n",
       "2022-01-21  1864.500000 -0.017132\n",
       "2022-01-24  1765.000000 -0.053366\n",
       "2022-01-25  1786.000000  0.011898\n",
       "2022-01-26  1814.500000  0.015957\n",
       "2022-01-27  1848.500000  0.018738\n",
       "\n",
       "[483 rows x 2 columns]"
      ]
     },
     "execution_count": 13,
     "metadata": {},
     "output_type": "execute_result"
    }
   ],
   "source": [
    "MNDItraining"
   ]
  },
  {
   "cell_type": "code",
   "execution_count": 14,
   "id": "c33c1a70",
   "metadata": {},
   "outputs": [],
   "source": [
    "MNDItest['Return']=(MNDItest['Adj Close']-MNDItest.shift(1)['Adj Close'])/MNDItest.shift(1)['Adj Close']"
   ]
  },
  {
   "cell_type": "code",
   "execution_count": 15,
   "id": "cb2accfd",
   "metadata": {
    "scrolled": true
   },
   "outputs": [
    {
     "data": {
      "text/html": [
       "<div>\n",
       "<style scoped>\n",
       "    .dataframe tbody tr th:only-of-type {\n",
       "        vertical-align: middle;\n",
       "    }\n",
       "\n",
       "    .dataframe tbody tr th {\n",
       "        vertical-align: top;\n",
       "    }\n",
       "\n",
       "    .dataframe thead th {\n",
       "        text-align: right;\n",
       "    }\n",
       "</style>\n",
       "<table border=\"1\" class=\"dataframe\">\n",
       "  <thead>\n",
       "    <tr style=\"text-align: right;\">\n",
       "      <th></th>\n",
       "      <th>Adj Close</th>\n",
       "      <th>Return</th>\n",
       "    </tr>\n",
       "    <tr>\n",
       "      <th>Date</th>\n",
       "      <th></th>\n",
       "      <th></th>\n",
       "    </tr>\n",
       "  </thead>\n",
       "  <tbody>\n",
       "    <tr>\n",
       "      <th>2022-01-31</th>\n",
       "      <td>1839.0</td>\n",
       "      <td>NaN</td>\n",
       "    </tr>\n",
       "    <tr>\n",
       "      <th>2022-02-01</th>\n",
       "      <td>1869.5</td>\n",
       "      <td>0.016585</td>\n",
       "    </tr>\n",
       "    <tr>\n",
       "      <th>2022-02-02</th>\n",
       "      <td>1881.5</td>\n",
       "      <td>0.006419</td>\n",
       "    </tr>\n",
       "    <tr>\n",
       "      <th>2022-02-03</th>\n",
       "      <td>1853.0</td>\n",
       "      <td>-0.015147</td>\n",
       "    </tr>\n",
       "    <tr>\n",
       "      <th>2022-02-04</th>\n",
       "      <td>1854.5</td>\n",
       "      <td>0.000809</td>\n",
       "    </tr>\n",
       "    <tr>\n",
       "      <th>2022-02-07</th>\n",
       "      <td>1845.0</td>\n",
       "      <td>-0.005123</td>\n",
       "    </tr>\n",
       "    <tr>\n",
       "      <th>2022-02-08</th>\n",
       "      <td>1856.5</td>\n",
       "      <td>0.006233</td>\n",
       "    </tr>\n",
       "    <tr>\n",
       "      <th>2022-02-09</th>\n",
       "      <td>1921.5</td>\n",
       "      <td>0.035012</td>\n",
       "    </tr>\n",
       "    <tr>\n",
       "      <th>2022-02-10</th>\n",
       "      <td>1950.5</td>\n",
       "      <td>0.015092</td>\n",
       "    </tr>\n",
       "    <tr>\n",
       "      <th>2022-02-11</th>\n",
       "      <td>1909.0</td>\n",
       "      <td>-0.021277</td>\n",
       "    </tr>\n",
       "    <tr>\n",
       "      <th>2022-02-14</th>\n",
       "      <td>1864.5</td>\n",
       "      <td>-0.023311</td>\n",
       "    </tr>\n",
       "    <tr>\n",
       "      <th>2022-02-15</th>\n",
       "      <td>1904.0</td>\n",
       "      <td>0.021185</td>\n",
       "    </tr>\n",
       "    <tr>\n",
       "      <th>2022-02-16</th>\n",
       "      <td>1914.0</td>\n",
       "      <td>0.005252</td>\n",
       "    </tr>\n",
       "    <tr>\n",
       "      <th>2022-02-17</th>\n",
       "      <td>1909.0</td>\n",
       "      <td>-0.002612</td>\n",
       "    </tr>\n",
       "    <tr>\n",
       "      <th>2022-02-18</th>\n",
       "      <td>1924.0</td>\n",
       "      <td>0.007858</td>\n",
       "    </tr>\n",
       "    <tr>\n",
       "      <th>2022-02-21</th>\n",
       "      <td>1912.5</td>\n",
       "      <td>-0.005977</td>\n",
       "    </tr>\n",
       "    <tr>\n",
       "      <th>2022-02-22</th>\n",
       "      <td>1898.5</td>\n",
       "      <td>-0.007320</td>\n",
       "    </tr>\n",
       "    <tr>\n",
       "      <th>2022-02-23</th>\n",
       "      <td>1908.5</td>\n",
       "      <td>0.005267</td>\n",
       "    </tr>\n",
       "    <tr>\n",
       "      <th>2022-02-24</th>\n",
       "      <td>1684.0</td>\n",
       "      <td>-0.117632</td>\n",
       "    </tr>\n",
       "    <tr>\n",
       "      <th>2022-02-25</th>\n",
       "      <td>1786.5</td>\n",
       "      <td>0.060867</td>\n",
       "    </tr>\n",
       "  </tbody>\n",
       "</table>\n",
       "</div>"
      ],
      "text/plain": [
       "            Adj Close    Return\n",
       "Date                           \n",
       "2022-01-31     1839.0       NaN\n",
       "2022-02-01     1869.5  0.016585\n",
       "2022-02-02     1881.5  0.006419\n",
       "2022-02-03     1853.0 -0.015147\n",
       "2022-02-04     1854.5  0.000809\n",
       "2022-02-07     1845.0 -0.005123\n",
       "2022-02-08     1856.5  0.006233\n",
       "2022-02-09     1921.5  0.035012\n",
       "2022-02-10     1950.5  0.015092\n",
       "2022-02-11     1909.0 -0.021277\n",
       "2022-02-14     1864.5 -0.023311\n",
       "2022-02-15     1904.0  0.021185\n",
       "2022-02-16     1914.0  0.005252\n",
       "2022-02-17     1909.0 -0.002612\n",
       "2022-02-18     1924.0  0.007858\n",
       "2022-02-21     1912.5 -0.005977\n",
       "2022-02-22     1898.5 -0.007320\n",
       "2022-02-23     1908.5  0.005267\n",
       "2022-02-24     1684.0 -0.117632\n",
       "2022-02-25     1786.5  0.060867"
      ]
     },
     "execution_count": 15,
     "metadata": {},
     "output_type": "execute_result"
    }
   ],
   "source": [
    "MNDItest"
   ]
  },
  {
   "cell_type": "code",
   "execution_count": 16,
   "id": "7d9e3eb5",
   "metadata": {},
   "outputs": [],
   "source": [
    "MNDItest.iloc[0,1]=(MNDItest.iloc[0,0]-MNDItraining.iloc[-1,0])/MNDItraining.iloc[-1,0]\n",
    "#Calculate the 1st cell of test set"
   ]
  },
  {
   "cell_type": "code",
   "execution_count": 17,
   "id": "e7906ef9",
   "metadata": {},
   "outputs": [
    {
     "data": {
      "text/html": [
       "<div>\n",
       "<style scoped>\n",
       "    .dataframe tbody tr th:only-of-type {\n",
       "        vertical-align: middle;\n",
       "    }\n",
       "\n",
       "    .dataframe tbody tr th {\n",
       "        vertical-align: top;\n",
       "    }\n",
       "\n",
       "    .dataframe thead th {\n",
       "        text-align: right;\n",
       "    }\n",
       "</style>\n",
       "<table border=\"1\" class=\"dataframe\">\n",
       "  <thead>\n",
       "    <tr style=\"text-align: right;\">\n",
       "      <th></th>\n",
       "      <th>Adj Close</th>\n",
       "      <th>Return</th>\n",
       "    </tr>\n",
       "    <tr>\n",
       "      <th>Date</th>\n",
       "      <th></th>\n",
       "      <th></th>\n",
       "    </tr>\n",
       "  </thead>\n",
       "  <tbody>\n",
       "    <tr>\n",
       "      <th>2022-01-31</th>\n",
       "      <td>1839.0</td>\n",
       "      <td>-0.005139</td>\n",
       "    </tr>\n",
       "    <tr>\n",
       "      <th>2022-02-01</th>\n",
       "      <td>1869.5</td>\n",
       "      <td>0.016585</td>\n",
       "    </tr>\n",
       "    <tr>\n",
       "      <th>2022-02-02</th>\n",
       "      <td>1881.5</td>\n",
       "      <td>0.006419</td>\n",
       "    </tr>\n",
       "    <tr>\n",
       "      <th>2022-02-03</th>\n",
       "      <td>1853.0</td>\n",
       "      <td>-0.015147</td>\n",
       "    </tr>\n",
       "    <tr>\n",
       "      <th>2022-02-04</th>\n",
       "      <td>1854.5</td>\n",
       "      <td>0.000809</td>\n",
       "    </tr>\n",
       "    <tr>\n",
       "      <th>2022-02-07</th>\n",
       "      <td>1845.0</td>\n",
       "      <td>-0.005123</td>\n",
       "    </tr>\n",
       "    <tr>\n",
       "      <th>2022-02-08</th>\n",
       "      <td>1856.5</td>\n",
       "      <td>0.006233</td>\n",
       "    </tr>\n",
       "    <tr>\n",
       "      <th>2022-02-09</th>\n",
       "      <td>1921.5</td>\n",
       "      <td>0.035012</td>\n",
       "    </tr>\n",
       "    <tr>\n",
       "      <th>2022-02-10</th>\n",
       "      <td>1950.5</td>\n",
       "      <td>0.015092</td>\n",
       "    </tr>\n",
       "    <tr>\n",
       "      <th>2022-02-11</th>\n",
       "      <td>1909.0</td>\n",
       "      <td>-0.021277</td>\n",
       "    </tr>\n",
       "    <tr>\n",
       "      <th>2022-02-14</th>\n",
       "      <td>1864.5</td>\n",
       "      <td>-0.023311</td>\n",
       "    </tr>\n",
       "    <tr>\n",
       "      <th>2022-02-15</th>\n",
       "      <td>1904.0</td>\n",
       "      <td>0.021185</td>\n",
       "    </tr>\n",
       "    <tr>\n",
       "      <th>2022-02-16</th>\n",
       "      <td>1914.0</td>\n",
       "      <td>0.005252</td>\n",
       "    </tr>\n",
       "    <tr>\n",
       "      <th>2022-02-17</th>\n",
       "      <td>1909.0</td>\n",
       "      <td>-0.002612</td>\n",
       "    </tr>\n",
       "    <tr>\n",
       "      <th>2022-02-18</th>\n",
       "      <td>1924.0</td>\n",
       "      <td>0.007858</td>\n",
       "    </tr>\n",
       "    <tr>\n",
       "      <th>2022-02-21</th>\n",
       "      <td>1912.5</td>\n",
       "      <td>-0.005977</td>\n",
       "    </tr>\n",
       "    <tr>\n",
       "      <th>2022-02-22</th>\n",
       "      <td>1898.5</td>\n",
       "      <td>-0.007320</td>\n",
       "    </tr>\n",
       "    <tr>\n",
       "      <th>2022-02-23</th>\n",
       "      <td>1908.5</td>\n",
       "      <td>0.005267</td>\n",
       "    </tr>\n",
       "    <tr>\n",
       "      <th>2022-02-24</th>\n",
       "      <td>1684.0</td>\n",
       "      <td>-0.117632</td>\n",
       "    </tr>\n",
       "    <tr>\n",
       "      <th>2022-02-25</th>\n",
       "      <td>1786.5</td>\n",
       "      <td>0.060867</td>\n",
       "    </tr>\n",
       "  </tbody>\n",
       "</table>\n",
       "</div>"
      ],
      "text/plain": [
       "            Adj Close    Return\n",
       "Date                           \n",
       "2022-01-31     1839.0 -0.005139\n",
       "2022-02-01     1869.5  0.016585\n",
       "2022-02-02     1881.5  0.006419\n",
       "2022-02-03     1853.0 -0.015147\n",
       "2022-02-04     1854.5  0.000809\n",
       "2022-02-07     1845.0 -0.005123\n",
       "2022-02-08     1856.5  0.006233\n",
       "2022-02-09     1921.5  0.035012\n",
       "2022-02-10     1950.5  0.015092\n",
       "2022-02-11     1909.0 -0.021277\n",
       "2022-02-14     1864.5 -0.023311\n",
       "2022-02-15     1904.0  0.021185\n",
       "2022-02-16     1914.0  0.005252\n",
       "2022-02-17     1909.0 -0.002612\n",
       "2022-02-18     1924.0  0.007858\n",
       "2022-02-21     1912.5 -0.005977\n",
       "2022-02-22     1898.5 -0.007320\n",
       "2022-02-23     1908.5  0.005267\n",
       "2022-02-24     1684.0 -0.117632\n",
       "2022-02-25     1786.5  0.060867"
      ]
     },
     "execution_count": 17,
     "metadata": {},
     "output_type": "execute_result"
    }
   ],
   "source": [
    "MNDItest"
   ]
  },
  {
   "cell_type": "code",
   "execution_count": 18,
   "id": "2fcbfe52",
   "metadata": {},
   "outputs": [
    {
     "data": {
      "text/html": [
       "<div>\n",
       "<style scoped>\n",
       "    .dataframe tbody tr th:only-of-type {\n",
       "        vertical-align: middle;\n",
       "    }\n",
       "\n",
       "    .dataframe tbody tr th {\n",
       "        vertical-align: top;\n",
       "    }\n",
       "\n",
       "    .dataframe thead th {\n",
       "        text-align: right;\n",
       "    }\n",
       "</style>\n",
       "<table border=\"1\" class=\"dataframe\">\n",
       "  <thead>\n",
       "    <tr style=\"text-align: right;\">\n",
       "      <th></th>\n",
       "      <th>Adj Close</th>\n",
       "      <th>Return</th>\n",
       "    </tr>\n",
       "  </thead>\n",
       "  <tbody>\n",
       "    <tr>\n",
       "      <th>count</th>\n",
       "      <td>483.000000</td>\n",
       "      <td>482.000000</td>\n",
       "    </tr>\n",
       "    <tr>\n",
       "      <th>mean</th>\n",
       "      <td>1718.634087</td>\n",
       "      <td>0.000533</td>\n",
       "    </tr>\n",
       "    <tr>\n",
       "      <th>std</th>\n",
       "      <td>213.767466</td>\n",
       "      <td>0.019655</td>\n",
       "    </tr>\n",
       "    <tr>\n",
       "      <th>min</th>\n",
       "      <td>1181.841064</td>\n",
       "      <td>-0.107756</td>\n",
       "    </tr>\n",
       "    <tr>\n",
       "      <th>25%</th>\n",
       "      <td>1523.617126</td>\n",
       "      <td>-0.008496</td>\n",
       "    </tr>\n",
       "    <tr>\n",
       "      <th>50%</th>\n",
       "      <td>1784.520630</td>\n",
       "      <td>0.001108</td>\n",
       "    </tr>\n",
       "    <tr>\n",
       "      <th>75%</th>\n",
       "      <td>1882.921204</td>\n",
       "      <td>0.011613</td>\n",
       "    </tr>\n",
       "    <tr>\n",
       "      <th>max</th>\n",
       "      <td>2067.826904</td>\n",
       "      <td>0.067625</td>\n",
       "    </tr>\n",
       "  </tbody>\n",
       "</table>\n",
       "</div>"
      ],
      "text/plain": [
       "         Adj Close      Return\n",
       "count   483.000000  482.000000\n",
       "mean   1718.634087    0.000533\n",
       "std     213.767466    0.019655\n",
       "min    1181.841064   -0.107756\n",
       "25%    1523.617126   -0.008496\n",
       "50%    1784.520630    0.001108\n",
       "75%    1882.921204    0.011613\n",
       "max    2067.826904    0.067625"
      ]
     },
     "execution_count": 18,
     "metadata": {},
     "output_type": "execute_result"
    }
   ],
   "source": [
    "MNDItraining.describe()"
   ]
  },
  {
   "cell_type": "code",
   "execution_count": 19,
   "id": "c4fcff93",
   "metadata": {},
   "outputs": [
    {
     "data": {
      "text/html": [
       "<div>\n",
       "<style scoped>\n",
       "    .dataframe tbody tr th:only-of-type {\n",
       "        vertical-align: middle;\n",
       "    }\n",
       "\n",
       "    .dataframe tbody tr th {\n",
       "        vertical-align: top;\n",
       "    }\n",
       "\n",
       "    .dataframe thead th {\n",
       "        text-align: right;\n",
       "    }\n",
       "</style>\n",
       "<table border=\"1\" class=\"dataframe\">\n",
       "  <thead>\n",
       "    <tr style=\"text-align: right;\">\n",
       "      <th></th>\n",
       "      <th>Adj Close</th>\n",
       "      <th>Return</th>\n",
       "    </tr>\n",
       "  </thead>\n",
       "  <tbody>\n",
       "    <tr>\n",
       "      <th>count</th>\n",
       "      <td>20.000000</td>\n",
       "      <td>20.000000</td>\n",
       "    </tr>\n",
       "    <tr>\n",
       "      <th>mean</th>\n",
       "      <td>1874.275000</td>\n",
       "      <td>-0.001148</td>\n",
       "    </tr>\n",
       "    <tr>\n",
       "      <th>std</th>\n",
       "      <td>58.913959</td>\n",
       "      <td>0.033455</td>\n",
       "    </tr>\n",
       "    <tr>\n",
       "      <th>min</th>\n",
       "      <td>1684.000000</td>\n",
       "      <td>-0.117632</td>\n",
       "    </tr>\n",
       "    <tr>\n",
       "      <th>25%</th>\n",
       "      <td>1854.125000</td>\n",
       "      <td>-0.006313</td>\n",
       "    </tr>\n",
       "    <tr>\n",
       "      <th>50%</th>\n",
       "      <td>1890.000000</td>\n",
       "      <td>0.003031</td>\n",
       "    </tr>\n",
       "    <tr>\n",
       "      <th>75%</th>\n",
       "      <td>1909.875000</td>\n",
       "      <td>0.009666</td>\n",
       "    </tr>\n",
       "    <tr>\n",
       "      <th>max</th>\n",
       "      <td>1950.500000</td>\n",
       "      <td>0.060867</td>\n",
       "    </tr>\n",
       "  </tbody>\n",
       "</table>\n",
       "</div>"
      ],
      "text/plain": [
       "         Adj Close     Return\n",
       "count    20.000000  20.000000\n",
       "mean   1874.275000  -0.001148\n",
       "std      58.913959   0.033455\n",
       "min    1684.000000  -0.117632\n",
       "25%    1854.125000  -0.006313\n",
       "50%    1890.000000   0.003031\n",
       "75%    1909.875000   0.009666\n",
       "max    1950.500000   0.060867"
      ]
     },
     "execution_count": 19,
     "metadata": {},
     "output_type": "execute_result"
    }
   ],
   "source": [
    "MNDItest.describe()"
   ]
  },
  {
   "cell_type": "code",
   "execution_count": 20,
   "id": "c904e505",
   "metadata": {},
   "outputs": [
    {
     "data": {
      "text/plain": [
       "array([[<AxesSubplot:title={'center':'Adj Close'}>,\n",
       "        <AxesSubplot:title={'center':'Return'}>]], dtype=object)"
      ]
     },
     "execution_count": 20,
     "metadata": {},
     "output_type": "execute_result"
    },
    {
     "data": {
      "image/png": "[encoded data removed]",
      "text/plain": [
       "<Figure size 432x288 with 2 Axes>"
      ]
     },
     "metadata": {
      "needs_background": "light"
     },
     "output_type": "display_data"
    }
   ],
   "source": [
    "MNDItraining.hist()\n",
    "#vertical - frequency, horizontal - value"
   ]
  },
  {
   "cell_type": "code",
   "execution_count": 21,
   "id": "27bb6f71",
   "metadata": {
    "scrolled": true
   },
   "outputs": [
    {
     "data": {
      "text/plain": [
       "Text(0, 0.5, 'Frequency')"
      ]
     },
     "execution_count": 21,
     "metadata": {},
     "output_type": "execute_result"
    },
    {
     "data": {
      "image/png": "[encoded data removed]",
      "text/plain": [
       "<Figure size 432x288 with 1 Axes>"
      ]
     },
     "metadata": {
      "needs_background": "light"
     },
     "output_type": "display_data"
    }
   ],
   "source": [
    "MNDItraining.hist(column='Return',bins=20)\n",
    "mp.pyplot.xlabel('Value')\n",
    "mp.pyplot.ylabel('Frequency')\n",
    "#bin is the number of bars(space of value) you want to divide"
   ]
  },
  {
   "cell_type": "code",
   "execution_count": 22,
   "id": "270a7358",
   "metadata": {},
   "outputs": [
    {
     "data": {
      "text/plain": [
       "Text(0, 0.5, 'Frequency')"
      ]
     },
     "execution_count": 22,
     "metadata": {},
     "output_type": "execute_result"
    },
    {
     "data": {
      "image/png": "[encoded data removed]",
      "text/plain": [
       "<Figure size 432x288 with 1 Axes>"
      ]
     },
     "metadata": {
      "needs_background": "light"
     },
     "output_type": "display_data"
    }
   ],
   "source": [
    "mp.pyplot.hist(MNDItraining['Return'],bins=20)\n",
    "mp.pyplot.xlabel('Value')\n",
    "mp.pyplot.ylabel('Frequency')"
   ]
  },
  {
   "cell_type": "code",
   "execution_count": 42,
   "id": "ca600cc7",
   "metadata": {},
   "outputs": [
    {
     "data": {
      "image/png": "[encoded data removed]",
      "text/plain": [
       "<Figure size 432x288 with 1 Axes>"
      ]
     },
     "metadata": {
      "needs_background": "light"
     },
     "output_type": "display_data"
    }
   ],
   "source": [
    "htg=mp.pyplot.hist(MNDItraining['Return'],density=False,histtype='bar',color='c')"
   ]
  },
  {
   "cell_type": "code",
   "execution_count": 24,
   "id": "57001764",
   "metadata": {},
   "outputs": [
    {
     "data": {
      "text/plain": [
       "Text(0.0013298374188286865, 14, 'Median: 0.0011')"
      ]
     },
     "execution_count": 24,
     "metadata": {},
     "output_type": "execute_result"
    },
    {
     "data": {
      "image/png": "[encoded data removed]",
      "text/plain": [
       "<Figure size 432x288 with 1 Axes>"
      ]
     },
     "metadata": {
      "needs_background": "light"
     },
     "output_type": "display_data"
    }
   ],
   "source": [
    "htg=mp.pyplot.hist(MNDItraining['Return'],bins=20,density=True,cumulative=False,histtype='bar',color='c')\n",
    "#Probability density= raw count/(total count*bin width) -> hàm mật độ xác suất\n",
    "#- Nếu như hình chuông lệch qua phía bên phải của đường cong PDF, cho thấу thị trường đang có phần thưởng ᴠà rủi ro lớn hơn.\n",
    "# Ngược lại, hình chuông lệch qua phía bên trái của đường cong biểu thị phần thưởng ᴠà rủi ro thấp hơn.\n",
    "mp.pyplot.axvline(MNDItraining['Return'].mean())\n",
    "mp.pyplot.text(MNDItraining['Return'].mean()*1.1,18,'Mean: {:,.4f}'.format(MNDItraining['Return'].mean()))\n",
    "mp.pyplot.axvline(MNDItraining['Return'].median(),color='r')\n",
    "mp.pyplot.text(MNDItraining['Return'].median()*1.2,14,'Median: {:,.4f}'.format(MNDItraining['Return'].median()))"
   ]
  },
  {
   "cell_type": "code",
   "execution_count": 41,
   "id": "0188c35b",
   "metadata": {},
   "outputs": [
    {
     "data": {
      "text/plain": [
       "Text(0.0013298374188286865, 20, 'Median: 0.0011')"
      ]
     },
     "execution_count": 41,
     "metadata": {},
     "output_type": "execute_result"
    },
    {
     "data": {
      "image/png": "[encoded data removed]",
      "text/plain": [
       "<Figure size 432x288 with 1 Axes>"
      ]
     },
     "metadata": {
      "needs_background": "light"
     },
     "output_type": "display_data"
    }
   ],
   "source": [
    "htg=mp.pyplot.hist(MNDItraining['Return'],bins=40,density=True,cumulative=False,histtype='bar',color='c')\n",
    "mp.pyplot.axvline(MNDItraining['Return'].mean())\n",
    "mp.pyplot.text(MNDItraining['Return'].mean()*1.1,15,'Mean: {:,.4f}'.format(MNDItraining['Return'].mean()))\n",
    "mp.pyplot.axvline(MNDItraining['Return'].median(),color='r')\n",
    "mp.pyplot.text(MNDItraining['Return'].median()*1.2,20,'Median: {:,.4f}'.format(MNDItraining['Return'].median()))"
   ]
  },
  {
   "cell_type": "code",
   "execution_count": 39,
   "id": "6d105035",
   "metadata": {},
   "outputs": [
    {
     "data": {
      "image/png": "[encoded data removed]",
      "text/plain": [
       "<Figure size 432x288 with 1 Axes>"
      ]
     },
     "metadata": {
      "needs_background": "light"
     },
     "output_type": "display_data"
    }
   ],
   "source": [
    "htg=mp.pyplot.hist(MNDItraining['Return'],bins=100,density=True,cumulative=False,histtype='bar',color='c')"
   ]
  },
  {
   "cell_type": "code",
   "execution_count": 27,
   "id": "6743b89c",
   "metadata": {},
   "outputs": [
    {
     "data": {
      "text/plain": [
       "Text(0, 0.5, 'Frequency')"
      ]
     },
     "execution_count": 27,
     "metadata": {},
     "output_type": "execute_result"
    },
    {
     "data": {
      "image/png": "[encoded data removed]",
      "text/plain": [
       "<Figure size 432x288 with 1 Axes>"
      ]
     },
     "metadata": {
      "needs_background": "light"
     },
     "output_type": "display_data"
    }
   ],
   "source": [
    "MNDItraining.hist(column='Adj Close',bins=20)\n",
    "mp.pyplot.xlabel('Value')\n",
    "mp.pyplot.ylabel('Frequency')"
   ]
  },
  {
   "cell_type": "code",
   "execution_count": 28,
   "id": "8d6b874e",
   "metadata": {},
   "outputs": [
    {
     "data": {
      "text/plain": [
       "Text(1784.5206298828125, 40, 'Median: 1,784.5206')"
      ]
     },
     "execution_count": 28,
     "metadata": {},
     "output_type": "execute_result"
    },
    {
     "data": {
      "image/png": "[encoded data removed]",
      "text/plain": [
       "<Figure size 432x288 with 1 Axes>"
      ]
     },
     "metadata": {
      "needs_background": "light"
     },
     "output_type": "display_data"
    }
   ],
   "source": [
    "htg=mp.pyplot.hist(MNDItraining['Adj Close'],bins=20, density=False, cumulative=False, histtype='bar',color='c')\n",
    "mp.pyplot.axvline(MNDItraining['Adj Close'].mean())\n",
    "mp.pyplot.text(MNDItraining['Adj Close'].mean(),30,'Mean: {:,.4f}'.format(MNDItraining['Adj Close'].mean()))\n",
    "mp.pyplot.axvline(MNDItraining['Adj Close'].median(),color='r')\n",
    "mp.pyplot.text(MNDItraining['Adj Close'].median(),40,'Median: {:,.4f}'.format(MNDItraining['Adj Close'].median()))"
   ]
  },
  {
   "cell_type": "code",
   "execution_count": 29,
   "id": "e476acc3",
   "metadata": {},
   "outputs": [
    {
     "data": {
      "text/plain": [
       "<AxesSubplot:>"
      ]
     },
     "execution_count": 29,
     "metadata": {},
     "output_type": "execute_result"
    },
    {
     "data": {
      "image/png": "[encoded data removed]",
      "text/plain": [
       "<Figure size 432x288 with 1 Axes>"
      ]
     },
     "metadata": {
      "needs_background": "light"
     },
     "output_type": "display_data"
    }
   ],
   "source": [
    "MNDItraining.boxplot(column='Adj Close')"
   ]
  },
  {
   "cell_type": "code",
   "execution_count": 30,
   "id": "253d4d27",
   "metadata": {},
   "outputs": [
    {
     "data": {
      "text/plain": [
       "Text(0, 0.5, 'MNDI price')"
      ]
     },
     "execution_count": 30,
     "metadata": {},
     "output_type": "execute_result"
    },
    {
     "data": {
      "image/png": "[encoded data removed]",
      "text/plain": [
       "<Figure size 432x288 with 1 Axes>"
      ]
     },
     "metadata": {
      "needs_background": "light"
     },
     "output_type": "display_data"
    }
   ],
   "source": [
    "priceline=MNDItraining.plot.line(y='Adj Close',legend=False)\n",
    "priceline.set_xlabel(\"Date\")\n",
    "priceline.set_ylabel(\"MNDI price\")"
   ]
  },
  {
   "cell_type": "code",
   "execution_count": 31,
   "id": "cf483d16",
   "metadata": {},
   "outputs": [],
   "source": [
    "ma20=MNDItraining.rolling(20).mean()"
   ]
  },
  {
   "cell_type": "code",
   "execution_count": 32,
   "id": "c52d969e",
   "metadata": {},
   "outputs": [],
   "source": [
    "ma50=MNDItraining.rolling(50).mean()"
   ]
  },
  {
   "cell_type": "code",
   "execution_count": 33,
   "id": "baa8801f",
   "metadata": {},
   "outputs": [],
   "source": [
    "priceMAdata=pd.DataFrame({'Price':MNDItraining['Adj Close'],'MA20':ma20['Adj Close'],'MA50':ma50['Adj Close']})"
   ]
  },
  {
   "cell_type": "code",
   "execution_count": 34,
   "id": "1d90f4e7",
   "metadata": {},
   "outputs": [
    {
     "data": {
      "image/png": "[encoded data removed]",
      "text/plain": [
       "<Figure size 432x288 with 1 Axes>"
      ]
     },
     "metadata": {
      "needs_background": "light"
     },
     "output_type": "display_data"
    }
   ],
   "source": [
    "priceMAdata.plot.line()\n",
    "mp.pyplot.show()"
   ]
  },
  {
   "cell_type": "code",
   "execution_count": 35,
   "id": "753a34b9",
   "metadata": {},
   "outputs": [
    {
     "data": {
      "image/png": "[encoded data removed]",
      "text/plain": [
       "<Figure size 1080x576 with 1 Axes>"
      ]
     },
     "metadata": {
      "needs_background": "light"
     },
     "output_type": "display_data"
    }
   ],
   "source": [
    "MNDItraining['Adj Close'].plot(figsize=(15,8), title= 'MNDI price', fontsize=14, legend=True)\n",
    "MNDItest['Adj Close'].plot(figsize=(15,8), title= 'MNDI price', fontsize=14, legend=True)\n",
    "priceMAdata['MA50'].plot(figsize=(15,8), title= 'MNDI price', fontsize=14, legend=True)\n",
    "mp.pyplot.show()"
   ]
  },
  {
   "cell_type": "code",
   "execution_count": null,
   "id": "deb6507b",
   "metadata": {},
   "outputs": [],
   "source": []
  }
 ],
 "metadata": {
  "kernelspec": {
   "display_name": "Python 3 (ipykernel)",
   "language": "python",
   "name": "python3"
  },
  "language_info": {
   "codemirror_mode": {
    "name": "ipython",
    "version": 3
   },
   "file_extension": ".py",
   "mimetype": "text/x-python",
   "name": "python",
   "nbconvert_exporter": "python",
   "pygments_lexer": "ipython3",
   "version": "3.9.7"
  }
 },
 "nbformat": 4,
 "nbformat_minor": 5
}
